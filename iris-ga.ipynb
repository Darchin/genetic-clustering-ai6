{
 "cells": [
  {
   "cell_type": "markdown",
   "metadata": {},
   "source": [
    "# Imports"
   ]
  },
  {
   "cell_type": "code",
   "execution_count": 1,
   "metadata": {},
   "outputs": [],
   "source": [
    "from sklearn.datasets import load_iris\n",
    "import matplotlib.pyplot as plt\n",
    "plt.rcParams['figure.dpi'] = 150\n",
    "import matplotlib as mpl\n",
    "import numpy as np\n",
    "from sklearn import metrics\n",
    "from sklearn.decomposition import PCA\n",
    "from sklearn.cluster import KMeans\n",
    "from collections import Counter"
   ]
  },
  {
   "cell_type": "markdown",
   "metadata": {},
   "source": [
    "# Loading iris"
   ]
  },
  {
   "cell_type": "code",
   "execution_count": 2,
   "metadata": {},
   "outputs": [],
   "source": [
    "iris = load_iris()"
   ]
  },
  {
   "cell_type": "markdown",
   "metadata": {},
   "source": [
    "Reducing to 2 dimensions for visualizations later"
   ]
  },
  {
   "cell_type": "code",
   "execution_count": 3,
   "metadata": {},
   "outputs": [],
   "source": [
    "iris_2d = PCA(n_components=2).fit_transform(iris.data[:,:])"
   ]
  },
  {
   "cell_type": "markdown",
   "metadata": {},
   "source": [
    "# Clustering using a genetic algorithm"
   ]
  },
  {
   "cell_type": "markdown",
   "metadata": {},
   "source": [
    "### Main class"
   ]
  },
  {
   "cell_type": "code",
   "execution_count": 4,
   "metadata": {},
   "outputs": [],
   "source": [
    "class GAC:\n",
    "    samples = []\n",
    "    def __init__(self, X):\n",
    "        GAC.samples = X\n",
    "        \n",
    "        # Used to keep iteration count for display (not used in operators)\n",
    "        self.GEN_COUNT = 0\n",
    "\n",
    "        #\n",
    "        self.latest_25 = [1]*25\n",
    "\n",
    "        # Used by the mutation operator.\n",
    "        # Gives a chance to mutate between 1 and 10 times, with odds proportional to inverse squared.\n",
    "        # By changing the power of 'i' from 2 to a higher number, odds of mutation can be significantly lowered -\n",
    "        # and therefore the evolution made much more stable. However, convergence might also become extremely slow.\n",
    "        # A power of 2 seems to give good results so it was kept.\n",
    "        self.MUTATION_CHANCE_SUM = np.sum([1/(i**2) for i in range(1,11)])\n",
    "        self.MUTATION_PROBABILITY = [(1/(i**2))/self.MUTATION_CHANCE_SUM for i in range(1,11)]\n",
    "\n",
    "    def evolveUntilThreshold(self, initial_pop, threshold = 0.01):\n",
    "        evolving_pop = initial_pop\n",
    "        \n",
    "        average_change = sum(self.latest_25)/len(self.latest_25)\n",
    "        # Threshold is percentage of maximum fitness to try and reach.\n",
    "        while average_change > threshold:\n",
    "            \n",
    "            self.GEN_COUNT += 1\n",
    "    \n",
    "            # Print the fitness of the fittest individual within population once every 100 generations.\n",
    "            if self.GEN_COUNT % 100 == 0:\n",
    "                print(f'Generation {self.GEN_COUNT}, fitness of the fittest individual: {evolving_pop.fittest_score}\\nAverage change over last 25 gens: {average_change}')\n",
    "\n",
    "            generational_change = -evolving_pop.fittest_score\n",
    "            evolving_pop = self.generateNextGen(evolving_pop)\n",
    "            generational_change += evolving_pop.fittest_score\n",
    "            generational_change /= evolving_pop.fittest_score\n",
    "            self.latest_25.pop(0)\n",
    "            self.latest_25.append(abs(generational_change))\n",
    "            average_change = sum(self.latest_25)/len(self.latest_25)\n",
    "        \n",
    "        print(\"\\n --- Convergence finished ---\")\n",
    "        print(f\"Final fitness: {evolving_pop.fittest_score}\")\n",
    "        return evolving_pop\n",
    "    \n",
    "    def generateNextGen(self, population):\n",
    "        # Probability of an individual being chosen as a parent, proportional to their fitness.\n",
    "        total_sum = sum(indv.fitness for indv in population.individuals)\n",
    "        selection_probabilities = [indv.fitness/total_sum for indv in population.individuals]\n",
    "\n",
    "        next_gen_indv_list = []\n",
    "        \n",
    "        while len(next_gen_indv_list) < population.size:\n",
    "            # Choose two parents using previously defined probabilities. \n",
    "            # Same individual can effectively be chosen twice and hence become \"both\" parents of its offspring.\n",
    "            par1, par2 = np.random.choice(population.individuals, size=2, p=selection_probabilities)\n",
    "            offspring1, offspring2 = GAC.Selection.crossover(par1, par2)\n",
    "            \n",
    "            # Mutate the offspring according to the probability matrix defined in '__init__'.\n",
    "            # Most likely scenario is no mutation at all.\n",
    "            for _ in range(np.random.choice(range(10), p=self.MUTATION_PROBABILITY)):\n",
    "                GAC.Selection.mutate(offspring1)\n",
    "\n",
    "            for _ in range(np.random.choice(range(10), p=self.MUTATION_PROBABILITY)):\n",
    "                GAC.Selection.mutate(offspring2)\n",
    "\n",
    "            offspring1.calculateFitness()\n",
    "            offspring2.calculateFitness()\n",
    "\n",
    "            # Add offspring to list of the next generation.\n",
    "            next_gen_indv_list.extend([offspring1, offspring2])\n",
    "\n",
    "        # Sort the population by fitness.\n",
    "        next_gen_indv_list.sort(key=lambda indv: indv.fitness, reverse=True)\n",
    "\n",
    "        return GAC.Population(next_gen_indv_list)\n",
    "    \n",
    "    # The fitness function is simply the Calinski-Harabasz score for that clustering (chromosome).\n",
    "    def fitness(indv):\n",
    "        return metrics.calinski_harabasz_score(GAC.samples, indv.chromosome)\n",
    "    \n",
    "    class Selection:\n",
    "        \n",
    "        # Simple point mutation\n",
    "        def mutate(indv):\n",
    "            idx = np.random.randint(low=0,high=150)\n",
    "            val = np.random.randint(low=0,high=3)\n",
    "            indv.chromosome[idx] = val\n",
    "            return indv\n",
    "        \n",
    "        # Simple random slice crossover operator\n",
    "        def crossover(par1, par2):\n",
    "            slice_point = np.random.randint(low=0,high=150)\n",
    "            offspring1 = GAC.Individual([*par1.chromosome[0:slice_point], *par2.chromosome[slice_point:]], False)\n",
    "            offspring2 = GAC.Individual([*par2.chromosome[0:slice_point], *par1.chromosome[slice_point:]], False)\n",
    "\n",
    "            return offspring1, offspring2\n",
    "        \n",
    "    class Population:\n",
    "        def __init__(self, indv_list):\n",
    "            self.individuals = indv_list\n",
    "            self.fittest = self.individuals[0]\n",
    "            self.fittest_score = self.individuals[0].fitness\n",
    "            self.size = len(self.individuals)\n",
    "        def initialize(n=50):\n",
    "            individual_list = [GAC.Individual(np.random.randint(low=0,high=3, size=150)) for _ in range(n)]\n",
    "            individual_list.sort(key=lambda indv: indv.fitness, reverse=True)\n",
    "            return GAC.Population(individual_list)\n",
    "\n",
    "    class Individual:\n",
    "        def __init__(self, chromosome, calc_fitness = True):\n",
    "            self.chromosome = chromosome\n",
    "            if calc_fitness: self.fitness = GAC.fitness(self)\n",
    "            else: self.fitness = 0\n",
    "        def calculateFitness(self):\n",
    "            self.fitness = GAC.fitness(self)\n",
    "        def __str__(self) -> str:\n",
    "            return str(self.fitness)\n",
    "        def __repr__(self) -> str:\n",
    "            return self.__str__()"
   ]
  },
  {
   "cell_type": "markdown",
   "metadata": {},
   "source": [
    "# Clustering using the Genetic Algorithm"
   ]
  },
  {
   "cell_type": "code",
   "execution_count": 5,
   "metadata": {},
   "outputs": [],
   "source": [
    "ga = GAC(iris.data[:,:])"
   ]
  },
  {
   "cell_type": "markdown",
   "metadata": {},
   "source": [
    "An initial population size of 200 seems to work best. A population size of 250 or greater seems to slow down the algorithm's convergence while a population size of 100 makes the algorithm too volatile. The optimal initial population size is heavily dependent on the mutation probability matrix. The likelier mutations are, the better it is to have larger populations."
   ]
  },
  {
   "cell_type": "code",
   "execution_count": 6,
   "metadata": {},
   "outputs": [],
   "source": [
    "initial_pop = GAC.Population.initialize(n=200)"
   ]
  },
  {
   "cell_type": "code",
   "execution_count": 7,
   "metadata": {},
   "outputs": [
    {
     "name": "stdout",
     "output_type": "stream",
     "text": [
      "Generation 100, fitness of the fittest individual: 107.47404058913756\n",
      "Average change over last 25 gens: 0.05090695446244679\n",
      "Generation 200, fitness of the fittest individual: 258.90847677141437\n",
      "Average change over last 25 gens: 0.038808007012918186\n",
      "Generation 300, fitness of the fittest individual: 362.430507250597\n",
      "Average change over last 25 gens: 0.036576458577513044\n",
      "Generation 400, fitness of the fittest individual: 378.65122902020516\n",
      "Average change over last 25 gens: 0.014955743028261718\n",
      "Generation 500, fitness of the fittest individual: 366.22673210964035\n",
      "Average change over last 25 gens: 0.02085810187979363\n",
      "Generation 600, fitness of the fittest individual: 458.0422553664609\n",
      "Average change over last 25 gens: 0.019310918476570373\n",
      "Generation 700, fitness of the fittest individual: 432.72841260429993\n",
      "Average change over last 25 gens: 0.020881924328532177\n",
      "\n",
      " --- Convergence finished ---\n",
      "Final fitness: 451.11524756235576\n"
     ]
    }
   ],
   "source": [
    "soln = ga.evolveUntilThreshold(initial_pop, 0.01)"
   ]
  },
  {
   "cell_type": "markdown",
   "metadata": {},
   "source": [
    "# Clustering using K-Means"
   ]
  },
  {
   "cell_type": "code",
   "execution_count": 8,
   "metadata": {},
   "outputs": [],
   "source": [
    "labels_km = KMeans(n_clusters=3, n_init='auto').fit_predict(iris.data)"
   ]
  },
  {
   "cell_type": "markdown",
   "metadata": {},
   "source": [
    "# Evaluation of clustering quality"
   ]
  },
  {
   "cell_type": "markdown",
   "metadata": {},
   "source": [
    "Renaming of clusters such that they match class names. This will allow clearer plotting and also enables us to calculate more metrics."
   ]
  },
  {
   "cell_type": "code",
   "execution_count": 9,
   "metadata": {},
   "outputs": [],
   "source": [
    "# Change [0] to another number to get the labels for a different individual.\n",
    "# Since the individuals are sorted by fitness, soln.individuals[1] will for example return the second fittest individual.\n",
    "labels_ga = np.array(soln.individuals[0].chromosome)\n",
    "matched_labels_ga = np.zeros(shape=150, dtype=int)\n",
    "cluster0 = Counter(labels_ga[0:50])\n",
    "cluster1 = Counter(labels_ga[50:100])\n",
    "cluster2 = Counter(labels_ga[100:150])\n",
    "matched_labels_ga[labels_ga == max(cluster0, key=cluster0.get)] = 0\n",
    "matched_labels_ga[labels_ga == max(cluster1, key=cluster1.get)] = 1\n",
    "matched_labels_ga[labels_ga == max(cluster2, key=cluster2.get)] = 2"
   ]
  },
  {
   "cell_type": "code",
   "execution_count": 10,
   "metadata": {},
   "outputs": [],
   "source": [
    "matched_labels_km = np.zeros(shape=150, dtype=int)\n",
    "cluster0 = Counter(labels_km[0:50])\n",
    "cluster1 = Counter(labels_km[50:100])\n",
    "cluster2 = Counter(labels_km[100:150])\n",
    "matched_labels_km[labels_km == max(cluster0, key=cluster0.get)] = 0\n",
    "matched_labels_km[labels_km == max(cluster1, key=cluster1.get)] = 1\n",
    "matched_labels_km[labels_km == max(cluster2, key=cluster2.get)] = 2"
   ]
  },
  {
   "cell_type": "markdown",
   "metadata": {},
   "source": [
    "### Classification report for KMeans Clustering"
   ]
  },
  {
   "cell_type": "code",
   "execution_count": 11,
   "metadata": {},
   "outputs": [
    {
     "name": "stdout",
     "output_type": "stream",
     "text": [
      "              precision    recall  f1-score   support\n",
      "\n",
      "           0       1.00      1.00      1.00        50\n",
      "           1       0.77      0.94      0.85        50\n",
      "           2       0.92      0.72      0.81        50\n",
      "\n",
      "    accuracy                           0.89       150\n",
      "   macro avg       0.90      0.89      0.89       150\n",
      "weighted avg       0.90      0.89      0.89       150\n",
      "\n"
     ]
    }
   ],
   "source": [
    "print(metrics.classification_report(iris.target, matched_labels_km))"
   ]
  },
  {
   "cell_type": "markdown",
   "metadata": {},
   "source": [
    "### Classification report for Genetic Clustering"
   ]
  },
  {
   "cell_type": "code",
   "execution_count": 12,
   "metadata": {},
   "outputs": [
    {
     "name": "stdout",
     "output_type": "stream",
     "text": [
      "              precision    recall  f1-score   support\n",
      "\n",
      "           0       1.00      1.00      1.00        50\n",
      "           1       0.78      0.80      0.79        50\n",
      "           2       0.80      0.78      0.79        50\n",
      "\n",
      "    accuracy                           0.86       150\n",
      "   macro avg       0.86      0.86      0.86       150\n",
      "weighted avg       0.86      0.86      0.86       150\n",
      "\n"
     ]
    }
   ],
   "source": [
    "print(metrics.classification_report(iris.target, matched_labels_ga))"
   ]
  },
  {
   "cell_type": "markdown",
   "metadata": {},
   "source": [
    "### Clusters visualized"
   ]
  },
  {
   "cell_type": "code",
   "execution_count": 15,
   "metadata": {},
   "outputs": [
    {
     "data": {
      "text/plain": [
       "<Figure size 1280x960 with 0 Axes>"
      ]
     },
     "metadata": {},
     "output_type": "display_data"
    },
    {
     "data": {
      "image/png": "[encoded data removed]",
      "text/plain": [
       "<Figure size 1500x375 with 3 Axes>"
      ]
     },
     "metadata": {},
     "output_type": "display_data"
    }
   ],
   "source": [
    "mpl.rcParams['axes.titlesize'] = 6\n",
    "fig = plt.figure()\n",
    "fig.set_dpi(200)\n",
    "fig, ax = plt.subplots(nrows=1, ncols=3)\n",
    "fig.set_size_inches(10,2.5)\n",
    "fig.tight_layout()\n",
    "ax1, ax3, ax2 = ax\n",
    "\n",
    "ax1.scatter(iris_2d[:, 0], iris_2d[:, 1], c=matched_labels_km, cmap='Set2', s=10)\n",
    "ax2.scatter(iris_2d[:, 0], iris_2d[:, 1], c=matched_labels_ga, cmap='Set2', s=10)\n",
    "ax3.scatter(iris_2d[:, 0], iris_2d[:, 1], c=iris.target, cmap='Set2', s=10)\n",
    "\n",
    "ax1.set_title(\"KMeans Clustering\")\n",
    "ax1.tick_params(left = False, bottom = False)\n",
    "ax1.set(xticklabels=[],yticklabels=[])\n",
    "\n",
    "ax2.set_title(\"Genetic Algorithm Clustering\")\n",
    "ax2.tick_params(left = False, bottom = False)\n",
    "ax2.set(xticklabels=[],yticklabels=[])\n",
    "\n",
    "ax3.set_title(\"True classes\")\n",
    "ax3.tick_params(left = False, bottom = False)\n",
    "ax3.set(xticklabels=[],yticklabels=[])\n",
    "pass"
   ]
  }
 ],
 "metadata": {
  "kernelspec": {
   "display_name": "Python 3",
   "language": "python",
   "name": "python3"
  },
  "language_info": {
   "codemirror_mode": {
    "name": "ipython",
    "version": 3
   },
   "file_extension": ".py",
   "mimetype": "text/x-python",
   "name": "python",
   "nbconvert_exporter": "python",
   "pygments_lexer": "ipython3",
   "version": "3.12.1"
  }
 },
 "nbformat": 4,
 "nbformat_minor": 2
}
